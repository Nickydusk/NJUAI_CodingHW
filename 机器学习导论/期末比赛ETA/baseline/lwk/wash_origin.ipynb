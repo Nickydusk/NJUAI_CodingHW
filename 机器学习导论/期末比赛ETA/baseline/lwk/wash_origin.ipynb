{
 "cells": [
  {
   "cell_type": "code",
   "execution_count": 7,
   "metadata": {},
   "outputs": [
    {
     "name": "stdout",
     "output_type": "stream",
     "text": [
      "         loadingOrder                 timestamp   longitude   latitude  speed  \\\n",
      "0      CF946210847851  2019-04-02T02:42:28.000Z  138.471062  40.278787     31   \n",
      "1      CF946210847851  2019-04-02T02:59:28.000Z  138.552168  40.327785     30   \n",
      "2      CF946210847851  2019-04-02T03:07:28.000Z  138.588250  40.352542     30   \n",
      "3      CF946210847851  2019-04-02T03:43:28.000Z  138.751325  40.459447     30   \n",
      "4      CF946210847851  2019-04-02T04:29:28.000Z  138.969782  40.581485     30   \n",
      "...               ...                       ...         ...        ...    ...   \n",
      "45451  XG479584941731  2019-01-13T03:56:08.000Z  104.633357   1.630708      0   \n",
      "45452  XG479584941731  2019-01-13T03:57:08.000Z  104.631958   1.626713      0   \n",
      "45453  XG479584941731  2019-01-13T03:57:38.000Z  104.631258   1.624615      0   \n",
      "45454  XG479584941731  2019-01-13T03:58:08.000Z  104.630597   1.622682      0   \n",
      "45455  XG479584941731  2019-01-13T03:59:08.000Z  104.629178   1.618552      0   \n",
      "\n",
      "       direction carrierName   vesselMMSI           onboardDate  \\\n",
      "0           5800      OIEQNT  R5480015614  2019/04/02  02:42:28   \n",
      "1           4600      OIEQNT  R5480015614  2019/04/02  02:42:28   \n",
      "2           4900      OIEQNT  R5480015614  2019/04/02  02:42:28   \n",
      "3           5000      OIEQNT  R5480015614  2019/04/02  02:42:28   \n",
      "4           5000      OIEQNT  R5480015614  2019/04/02  02:42:28   \n",
      "...          ...         ...          ...                   ...   \n",
      "45451      19890      JCMFTA  U2218600548  2019/01/10  00:27:58   \n",
      "45452      19890      JCMFTA  U2218600548  2019/01/10  00:27:58   \n",
      "45453      19900      JCMFTA  U2218600548  2019/01/10  00:27:58   \n",
      "45454      19910      JCMFTA  U2218600548  2019/01/10  00:27:58   \n",
      "45455      19930      JCMFTA  U2218600548  2019/01/10  00:27:58   \n",
      "\n",
      "      TRANSPORT_TRACE  begin_lat   begin_lon    end_lat     end_lon  \n",
      "0         CNYTN-MXZLO    22.5777  114.275347  19.085961 -104.305571  \n",
      "1         CNYTN-MXZLO    22.5777  114.275347  19.085961 -104.305571  \n",
      "2         CNYTN-MXZLO    22.5777  114.275347  19.085961 -104.305571  \n",
      "3         CNYTN-MXZLO    22.5777  114.275347  19.085961 -104.305571  \n",
      "4         CNYTN-MXZLO    22.5777  114.275347  19.085961 -104.305571  \n",
      "...               ...        ...         ...        ...         ...  \n",
      "45451     CNYTN-MATNG    22.5777  114.275347  35.788207   -5.812980  \n",
      "45452     CNYTN-MATNG    22.5777  114.275347  35.788207   -5.812980  \n",
      "45453     CNYTN-MATNG    22.5777  114.275347  35.788207   -5.812980  \n",
      "45454     CNYTN-MATNG    22.5777  114.275347  35.788207   -5.812980  \n",
      "45455     CNYTN-MATNG    22.5777  114.275347  35.788207   -5.812980  \n",
      "\n",
      "[45456 rows x 14 columns]\n"
     ]
    }
   ],
   "source": [
    "import pandas as pd \n",
    "\n",
    "# 给测试集根据最后一列Trace,添加起点与终点的坐标\n",
    "def test_begin_end():\n",
    "    test = pd.read_csv('/run/media/liweikang/OS/Users/Li Weikang/Desktop/A_testData0531.csv')\n",
    "    port = pd.read_csv('port_fixed.csv')\n",
    "    \n",
    "    def trace2cordinate(x):\n",
    "        y = x.split('-')\n",
    "        assert len(y)==2\n",
    "        begin_cordinate = port[port['TRANS_NODE_NAME']==y[0]][['LATITUDE','LONGITUDE']].values\n",
    "        #print(begin_cordinate)\n",
    "        begin_lat = begin_cordinate[0][0]\n",
    "        begin_lon = begin_cordinate[0][1]\n",
    "        end_cordinate = port[port['TRANS_NODE_NAME']==y[1]][['LATITUDE','LONGITUDE']].values\n",
    "        #print(end_cordinate)\n",
    "        end_lat = end_cordinate[0][0]\n",
    "        end_lon = end_cordinate[0][1]\n",
    "        return begin_lat,begin_lon,end_lat,end_lon\n",
    "    \n",
    "    test_group = test.groupby('loadingOrder')['TRANSPORT_TRACE'].last().reset_index()\n",
    "    test_group.columns = ['loadingOrder','TRANSPORT_TRACE']\n",
    "    test_group[['begin_lat','begin_lon','end_lat','end_lon']] = test_group.apply(lambda x:trace2cordinate(x['TRANSPORT_TRACE']),axis=1,result_type='expand')\n",
    "    test_group.drop(['TRANSPORT_TRACE'],axis=1,inplace=True)\n",
    "\n",
    "    test = test.merge(test_group,on='loadingOrder',how='left')\n",
    "    print(test)\n",
    "    test.to_csv('test_wash_origin.csv',index=False)\n",
    "    \n",
    "test_begin_end()"
   ]
  }
 ],
 "metadata": {
  "kernelspec": {
   "display_name": "Python 3",
   "language": "python",
   "name": "python3"
  },
  "language_info": {
   "codemirror_mode": {
    "name": "ipython",
    "version": 3
   },
   "file_extension": ".py",
   "mimetype": "text/x-python",
   "name": "python",
   "nbconvert_exporter": "python",
   "pygments_lexer": "ipython3",
   "version": "3.8.3"
  }
 },
 "nbformat": 4,
 "nbformat_minor": 4
}
