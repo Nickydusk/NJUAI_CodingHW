{
 "cells": [
  {
   "cell_type": "code",
   "execution_count": 15,
   "metadata": {},
   "outputs": [],
   "source": [
    "import pandas as pd\n",
    "from tqdm import tqdm\n",
    "import numpy as np\n",
    "\n",
    "from sklearn.metrics import mean_squared_error,explained_variance_score\n",
    "from sklearn.model_selection import KFold\n",
    "import lightgbm as lgb\n",
    "\n",
    "import warnings\n",
    "warnings.filterwarnings('ignore')\n",
    "import os\n",
    "if not os.path.exists(\"data\"):\n",
    "    if not os.path.exists('baseline'):\n",
    "        os.chdir('Q:/Course/Sophomore_2/Introduce to Machine Learning/ML_HW7')\n",
    "    else:\n",
<<<<<<< Updated upstream
    "        os.chdir('baseline')"
=======
    "        os.chdir('baseline')\n",
    "else:\n",
    "    os.chdir('data')\n",
    "os.getcwd()"
>>>>>>> Stashed changes
   ]
  },
  {
   "cell_type": "code",
   "execution_count": 16,
   "metadata": {},
   "outputs": [],
   "source": [
    "# 这是一个数据预处理函数\n",
    "def get_data(data, mode='train'): # 针对训练数据 和 测试数据 分别将部分关于时间的列转换为 datetime 时间格式\n",
    "    \n",
    "    assert mode=='train' or mode=='test'\n",
    "    \n",
    "    if mode=='train':\n",
    "        data['vesselNextportETA'] = pd.to_datetime(data['vesselNextportETA'], infer_datetime_format=True) # 使用自动识别推理出的时间格式，把这'vesselNextportETA'转化为时间格式\n",
    "    elif mode=='test':\n",
    "        data['temp_timestamp'] = data['timestamp'] # 拷贝'timestamp'列\n",
    "        data['onboardDate'] = pd.to_datetime(data['onboardDate'], infer_datetime_format=True)\n",
    "    data['timestamp'] = pd.to_datetime(data['timestamp'], infer_datetime_format=True)\n",
    "    data['longitude'] = data['longitude'].astype(float)\n",
    "    data['loadingOrder'] = data['loadingOrder'].astype(str)\n",
    "    data['latitude'] = data['latitude'].astype(float)\n",
    "    data['speed'] = data['speed'].astype(float)\n",
    "    data['direction'] = data['direction'].astype(float) # 把特征都变成浮点数类型\n",
    "\n",
    "    return data"
   ]
  },
  {
   "cell_type": "code",
   "execution_count": 17,
   "metadata": {},
   "outputs": [],
   "source": [
    "# 做特征工程的函数\n",
    "def get_feature(df, mode='train'):\n",
    "    \n",
    "    assert mode=='train' or mode=='test'\n",
    "    \n",
    "    df.sort_values(['loadingOrder', 'timestamp'], inplace=True) # 将数据按 订单号 和 时间戳 两列进行 升序排列，排列结果替换元数据\n",
    "    # 特征只选择经纬度、速度\\方向\n",
    "    df['lat_diff'] = df.groupby('loadingOrder')['latitude'].diff(1) # 返回按 订单号 分类以后 维度的差分(变化)\n",
    "    df['lon_diff'] = df.groupby('loadingOrder')['longitude'].diff(1) # 返回按 订单号 分类以后 经度的差分(变化)\n",
    "    df['speed_diff'] = df.groupby('loadingOrder')['speed'].diff(1) # 返回按 订单号 分类以后 速度的差分(变化)\n",
    "    df['diff_minutes'] = df.groupby('loadingOrder')['timestamp'].diff(1).dt.total_seconds() // 60 # 返回按 订单号 分类以后 时间的差分，差分化成秒，除以60转化为时间\n",
    "    df['anchor'] = df.apply(lambda x: 1 if x['lat_diff'] <= 0.03 and x['lon_diff'] <= 0.03\n",
    "                            and x['speed_diff'] <= 0.3 and x['diff_minutes'] <= 10 else 0, axis=1) # 对每一列应用函数，判断船是否抛锚停下。\n",
    "    \n",
    "    if mode=='train':\n",
    "        group_df = df.groupby('loadingOrder')['timestamp'].agg(mmax='max', count='count', mmin='min').reset_index() #对订单号进行分组，然后对一组内时间戳合计，统计一个订单号时间戳下所有行，\n",
    "        # 每个属性的最大值、计数、最小值，并且重新设置索引index，将原来的index加入到df中成为一列\n",
    "        # 读取数据的最大值-最小值，即确认时间间隔为label            # 即将时间间隔作为一个特征\n",
    "        group_df['label'] = (group_df['mmax'] - group_df['mmin']).dt.total_seconds()\n",
    "    elif mode=='test':\n",
    "        group_df = df.groupby('loadingOrder')['timestamp'].agg(count='count').reset_index()\n",
    "        \n",
    "    anchor_df = df.groupby('loadingOrder')['anchor'].agg('sum').reset_index()\n",
    "    anchor_df.columns = ['loadingOrder', 'anchor_cnt']\n",
    "    group_df = group_df.merge(anchor_df, on='loadingOrder', how='left')\n",
    "    group_df['anchor_ratio'] = group_df['anchor_cnt'] / group_df['count']\n",
    "\n",
    "    agg_function = ['min', 'max', 'mean', 'median']\n",
    "    agg_col = ['latitude', 'longitude', 'speed', 'direction']\n",
    "\n",
    "    group = df.groupby('loadingOrder')[agg_col].agg(agg_function).reset_index()\n",
    "    group.columns = ['loadingOrder'] + ['{}_{}'.format(i, j) for i in agg_col for j in agg_function]\n",
    "    group_df = group_df.merge(group, on='loadingOrder', how='left')\n",
    "    \n",
    "    return group_df\n"
   ]
  },
  {
   "cell_type": "code",
   "execution_count": 18,
   "metadata": {},
   "outputs": [],
   "source": [
    "def mse_score_eval(preds, valid):\n",
    "    labels = valid.get_label()\n",
    "    scores = mean_squared_error(y_true=labels, y_pred=preds)\n",
    "    return 'mse_score', scores, True"
   ]
  },
  {
   "cell_type": "code",
   "execution_count": 19,
   "metadata": {},
   "outputs": [],
   "source": [
    "# baseline只用到gps定位数据，即train_gps_path\n",
    "train_gps_path = './data/train0523.csv'\n",
    "test_data_path = './data/A_testData0531.csv'\n",
    "order_data_path = './data/loadingOrderEvent.csv'\n",
    "port_data_path = './data/port.csv'"
   ]
  },
  {
   "cell_type": "code",
   "execution_count": 20,
   "metadata": {},
   "outputs": [],
   "source": [
    "NDATA = 10000000 # 一次读NDATA行\n",
    "Thresold = 100000000 # 总共要读多少行\n",
    "weight = float(NDATA)/Thresold\n",
    "def set_data_columns(data):\n",
    "    # 按照官网上对运单GPS数据的说明，重命名训练数据的列名\n",
    "    data.columns = ['loadingOrder','carrierName','timestamp','longitude',\n",
    "                  'latitude','vesselMMSI','speed','direction','vesselNextport',\n",
    "                  'vesselNextportETA','vesselStatus','vesselDatasource','TRANSPORT_TRACE']\n",
    "    return data\n",
    "# params\n",
    "params = {\n",
    "    'learning_rate': 0.01,\n",
    "    'boosting_type': 'gbdt',\n",
    "    'objective': 'regression',\n",
    "    'num_leaves': 36,\n",
    "    'feature_fraction': 0.6,\n",
    "    'bagging_fraction': 0.7,\n",
    "    'bagging_freq': 6,\n",
    "    'seed': 8,\n",
    "    'bagging_seed': 1,\n",
    "    'feature_fraction_seed': 7,\n",
    "    'min_data_in_leaf': 20,\n",
    "    'nthread': 8,\n",
    "    'verbose': 1,\n",
    "}\n",
    "sum = 0\n",
    "label = 'label'\n",
    "seed=1080 \n",
    "is_shuffle=True"
   ]
  },
  {
   "cell_type": "code",
   "execution_count": 21,
   "metadata": {},
   "outputs": [
    {
     "output_type": "error",
     "ename": "FileNotFoundError",
     "evalue": "[Errno 2] File b'./data/A_testData0531.csv' does not exist: b'./data/A_testData0531.csv'",
     "traceback": [
      "\u001b[1;31m---------------------------------------------------------------------------\u001b[0m",
      "\u001b[1;31mFileNotFoundError\u001b[0m                         Traceback (most recent call last)",
      "\u001b[1;32m<ipython-input-21-f6178ecd4baf>\u001b[0m in \u001b[0;36m<module>\u001b[1;34m()\u001b[0m\n\u001b[1;32m----> 1\u001b[1;33m \u001b[0mtest_data\u001b[0m \u001b[1;33m=\u001b[0m \u001b[0mpd\u001b[0m\u001b[1;33m.\u001b[0m\u001b[0mread_csv\u001b[0m\u001b[1;33m(\u001b[0m\u001b[0mtest_data_path\u001b[0m\u001b[1;33m)\u001b[0m\u001b[1;33m\u001b[0m\u001b[1;33m\u001b[0m\u001b[0m\n\u001b[0m\u001b[0;32m      2\u001b[0m \u001b[0mtest_data\u001b[0m \u001b[1;33m=\u001b[0m \u001b[0mget_data\u001b[0m\u001b[1;33m(\u001b[0m\u001b[0mtest_data\u001b[0m\u001b[1;33m,\u001b[0m \u001b[0mmode\u001b[0m\u001b[1;33m=\u001b[0m\u001b[1;34m'test'\u001b[0m\u001b[1;33m)\u001b[0m \u001b[1;31m# 预处理测试数据\u001b[0m\u001b[1;33m\u001b[0m\u001b[1;33m\u001b[0m\u001b[0m\n\u001b[0;32m      3\u001b[0m \u001b[0mtest\u001b[0m \u001b[1;33m=\u001b[0m \u001b[0mget_feature\u001b[0m\u001b[1;33m(\u001b[0m\u001b[0mtest_data\u001b[0m\u001b[1;33m,\u001b[0m \u001b[0mmode\u001b[0m\u001b[1;33m=\u001b[0m\u001b[1;34m'test'\u001b[0m\u001b[1;33m)\u001b[0m\u001b[1;33m\u001b[0m\u001b[1;33m\u001b[0m\u001b[0m\n\u001b[0;32m      4\u001b[0m \u001b[0mtest_pred\u001b[0m \u001b[1;33m=\u001b[0m \u001b[0mnp\u001b[0m\u001b[1;33m.\u001b[0m\u001b[0mzeros\u001b[0m\u001b[1;33m(\u001b[0m\u001b[1;33m(\u001b[0m\u001b[0mtest\u001b[0m\u001b[1;33m.\u001b[0m\u001b[0mshape\u001b[0m\u001b[1;33m[\u001b[0m\u001b[1;36m0\u001b[0m\u001b[1;33m]\u001b[0m\u001b[1;33m,\u001b[0m \u001b[1;33m)\u001b[0m\u001b[1;33m)\u001b[0m\u001b[1;33m\u001b[0m\u001b[1;33m\u001b[0m\u001b[0m\n",
      "\u001b[1;32mC:\\Users\\junch\\AppData\\Local\\Programs\\Python\\Python37\\lib\\site-packages\\pandas\\io\\parsers.py\u001b[0m in \u001b[0;36mparser_f\u001b[1;34m(filepath_or_buffer, sep, delimiter, header, names, index_col, usecols, squeeze, prefix, mangle_dupe_cols, dtype, engine, converters, true_values, false_values, skipinitialspace, skiprows, skipfooter, nrows, na_values, keep_default_na, na_filter, verbose, skip_blank_lines, parse_dates, infer_datetime_format, keep_date_col, date_parser, dayfirst, cache_dates, iterator, chunksize, compression, thousands, decimal, lineterminator, quotechar, quoting, doublequote, escapechar, comment, encoding, dialect, error_bad_lines, warn_bad_lines, delim_whitespace, low_memory, memory_map, float_precision)\u001b[0m\n\u001b[0;32m    683\u001b[0m         )\n\u001b[0;32m    684\u001b[0m \u001b[1;33m\u001b[0m\u001b[0m\n\u001b[1;32m--> 685\u001b[1;33m         \u001b[1;32mreturn\u001b[0m \u001b[0m_read\u001b[0m\u001b[1;33m(\u001b[0m\u001b[0mfilepath_or_buffer\u001b[0m\u001b[1;33m,\u001b[0m \u001b[0mkwds\u001b[0m\u001b[1;33m)\u001b[0m\u001b[1;33m\u001b[0m\u001b[1;33m\u001b[0m\u001b[0m\n\u001b[0m\u001b[0;32m    686\u001b[0m \u001b[1;33m\u001b[0m\u001b[0m\n\u001b[0;32m    687\u001b[0m     \u001b[0mparser_f\u001b[0m\u001b[1;33m.\u001b[0m\u001b[0m__name__\u001b[0m \u001b[1;33m=\u001b[0m \u001b[0mname\u001b[0m\u001b[1;33m\u001b[0m\u001b[1;33m\u001b[0m\u001b[0m\n",
      "\u001b[1;32mC:\\Users\\junch\\AppData\\Local\\Programs\\Python\\Python37\\lib\\site-packages\\pandas\\io\\parsers.py\u001b[0m in \u001b[0;36m_read\u001b[1;34m(filepath_or_buffer, kwds)\u001b[0m\n\u001b[0;32m    455\u001b[0m \u001b[1;33m\u001b[0m\u001b[0m\n\u001b[0;32m    456\u001b[0m     \u001b[1;31m# Create the parser.\u001b[0m\u001b[1;33m\u001b[0m\u001b[1;33m\u001b[0m\u001b[1;33m\u001b[0m\u001b[0m\n\u001b[1;32m--> 457\u001b[1;33m     \u001b[0mparser\u001b[0m \u001b[1;33m=\u001b[0m \u001b[0mTextFileReader\u001b[0m\u001b[1;33m(\u001b[0m\u001b[0mfp_or_buf\u001b[0m\u001b[1;33m,\u001b[0m \u001b[1;33m**\u001b[0m\u001b[0mkwds\u001b[0m\u001b[1;33m)\u001b[0m\u001b[1;33m\u001b[0m\u001b[1;33m\u001b[0m\u001b[0m\n\u001b[0m\u001b[0;32m    458\u001b[0m \u001b[1;33m\u001b[0m\u001b[0m\n\u001b[0;32m    459\u001b[0m     \u001b[1;32mif\u001b[0m \u001b[0mchunksize\u001b[0m \u001b[1;32mor\u001b[0m \u001b[0miterator\u001b[0m\u001b[1;33m:\u001b[0m\u001b[1;33m\u001b[0m\u001b[1;33m\u001b[0m\u001b[0m\n",
      "\u001b[1;32mC:\\Users\\junch\\AppData\\Local\\Programs\\Python\\Python37\\lib\\site-packages\\pandas\\io\\parsers.py\u001b[0m in \u001b[0;36m__init__\u001b[1;34m(self, f, engine, **kwds)\u001b[0m\n\u001b[0;32m    893\u001b[0m             \u001b[0mself\u001b[0m\u001b[1;33m.\u001b[0m\u001b[0moptions\u001b[0m\u001b[1;33m[\u001b[0m\u001b[1;34m\"has_index_names\"\u001b[0m\u001b[1;33m]\u001b[0m \u001b[1;33m=\u001b[0m \u001b[0mkwds\u001b[0m\u001b[1;33m[\u001b[0m\u001b[1;34m\"has_index_names\"\u001b[0m\u001b[1;33m]\u001b[0m\u001b[1;33m\u001b[0m\u001b[1;33m\u001b[0m\u001b[0m\n\u001b[0;32m    894\u001b[0m \u001b[1;33m\u001b[0m\u001b[0m\n\u001b[1;32m--> 895\u001b[1;33m         \u001b[0mself\u001b[0m\u001b[1;33m.\u001b[0m\u001b[0m_make_engine\u001b[0m\u001b[1;33m(\u001b[0m\u001b[0mself\u001b[0m\u001b[1;33m.\u001b[0m\u001b[0mengine\u001b[0m\u001b[1;33m)\u001b[0m\u001b[1;33m\u001b[0m\u001b[1;33m\u001b[0m\u001b[0m\n\u001b[0m\u001b[0;32m    896\u001b[0m \u001b[1;33m\u001b[0m\u001b[0m\n\u001b[0;32m    897\u001b[0m     \u001b[1;32mdef\u001b[0m \u001b[0mclose\u001b[0m\u001b[1;33m(\u001b[0m\u001b[0mself\u001b[0m\u001b[1;33m)\u001b[0m\u001b[1;33m:\u001b[0m\u001b[1;33m\u001b[0m\u001b[1;33m\u001b[0m\u001b[0m\n",
      "\u001b[1;32mC:\\Users\\junch\\AppData\\Local\\Programs\\Python\\Python37\\lib\\site-packages\\pandas\\io\\parsers.py\u001b[0m in \u001b[0;36m_make_engine\u001b[1;34m(self, engine)\u001b[0m\n\u001b[0;32m   1133\u001b[0m     \u001b[1;32mdef\u001b[0m \u001b[0m_make_engine\u001b[0m\u001b[1;33m(\u001b[0m\u001b[0mself\u001b[0m\u001b[1;33m,\u001b[0m \u001b[0mengine\u001b[0m\u001b[1;33m=\u001b[0m\u001b[1;34m\"c\"\u001b[0m\u001b[1;33m)\u001b[0m\u001b[1;33m:\u001b[0m\u001b[1;33m\u001b[0m\u001b[1;33m\u001b[0m\u001b[0m\n\u001b[0;32m   1134\u001b[0m         \u001b[1;32mif\u001b[0m \u001b[0mengine\u001b[0m \u001b[1;33m==\u001b[0m \u001b[1;34m\"c\"\u001b[0m\u001b[1;33m:\u001b[0m\u001b[1;33m\u001b[0m\u001b[1;33m\u001b[0m\u001b[0m\n\u001b[1;32m-> 1135\u001b[1;33m             \u001b[0mself\u001b[0m\u001b[1;33m.\u001b[0m\u001b[0m_engine\u001b[0m \u001b[1;33m=\u001b[0m \u001b[0mCParserWrapper\u001b[0m\u001b[1;33m(\u001b[0m\u001b[0mself\u001b[0m\u001b[1;33m.\u001b[0m\u001b[0mf\u001b[0m\u001b[1;33m,\u001b[0m \u001b[1;33m**\u001b[0m\u001b[0mself\u001b[0m\u001b[1;33m.\u001b[0m\u001b[0moptions\u001b[0m\u001b[1;33m)\u001b[0m\u001b[1;33m\u001b[0m\u001b[1;33m\u001b[0m\u001b[0m\n\u001b[0m\u001b[0;32m   1136\u001b[0m         \u001b[1;32melse\u001b[0m\u001b[1;33m:\u001b[0m\u001b[1;33m\u001b[0m\u001b[1;33m\u001b[0m\u001b[0m\n\u001b[0;32m   1137\u001b[0m             \u001b[1;32mif\u001b[0m \u001b[0mengine\u001b[0m \u001b[1;33m==\u001b[0m \u001b[1;34m\"python\"\u001b[0m\u001b[1;33m:\u001b[0m\u001b[1;33m\u001b[0m\u001b[1;33m\u001b[0m\u001b[0m\n",
      "\u001b[1;32mC:\\Users\\junch\\AppData\\Local\\Programs\\Python\\Python37\\lib\\site-packages\\pandas\\io\\parsers.py\u001b[0m in \u001b[0;36m__init__\u001b[1;34m(self, src, **kwds)\u001b[0m\n\u001b[0;32m   1915\u001b[0m         \u001b[0mkwds\u001b[0m\u001b[1;33m[\u001b[0m\u001b[1;34m\"usecols\"\u001b[0m\u001b[1;33m]\u001b[0m \u001b[1;33m=\u001b[0m \u001b[0mself\u001b[0m\u001b[1;33m.\u001b[0m\u001b[0musecols\u001b[0m\u001b[1;33m\u001b[0m\u001b[1;33m\u001b[0m\u001b[0m\n\u001b[0;32m   1916\u001b[0m \u001b[1;33m\u001b[0m\u001b[0m\n\u001b[1;32m-> 1917\u001b[1;33m         \u001b[0mself\u001b[0m\u001b[1;33m.\u001b[0m\u001b[0m_reader\u001b[0m \u001b[1;33m=\u001b[0m \u001b[0mparsers\u001b[0m\u001b[1;33m.\u001b[0m\u001b[0mTextReader\u001b[0m\u001b[1;33m(\u001b[0m\u001b[0msrc\u001b[0m\u001b[1;33m,\u001b[0m \u001b[1;33m**\u001b[0m\u001b[0mkwds\u001b[0m\u001b[1;33m)\u001b[0m\u001b[1;33m\u001b[0m\u001b[1;33m\u001b[0m\u001b[0m\n\u001b[0m\u001b[0;32m   1918\u001b[0m         \u001b[0mself\u001b[0m\u001b[1;33m.\u001b[0m\u001b[0munnamed_cols\u001b[0m \u001b[1;33m=\u001b[0m \u001b[0mself\u001b[0m\u001b[1;33m.\u001b[0m\u001b[0m_reader\u001b[0m\u001b[1;33m.\u001b[0m\u001b[0munnamed_cols\u001b[0m\u001b[1;33m\u001b[0m\u001b[1;33m\u001b[0m\u001b[0m\n\u001b[0;32m   1919\u001b[0m \u001b[1;33m\u001b[0m\u001b[0m\n",
      "\u001b[1;32mpandas/_libs/parsers.pyx\u001b[0m in \u001b[0;36mpandas._libs.parsers.TextReader.__cinit__\u001b[1;34m()\u001b[0m\n",
      "\u001b[1;32mpandas/_libs/parsers.pyx\u001b[0m in \u001b[0;36mpandas._libs.parsers.TextReader._setup_parser_source\u001b[1;34m()\u001b[0m\n",
      "\u001b[1;31mFileNotFoundError\u001b[0m: [Errno 2] File b'./data/A_testData0531.csv' does not exist: b'./data/A_testData0531.csv'"
     ]
    }
   ],
   "source": [
    "test_data = pd.read_csv(test_data_path)\n",
    "test_data = get_data(test_data, mode='test') # 预处理测试数据\n",
    "test = get_feature(test_data, mode='test')\n",
    "test_pred = np.zeros((test.shape[0], ))"
   ]
  },
  {
   "cell_type": "code",
   "execution_count": 22,
   "metadata": {
    "tags": [
     "outputPrepend",
     "outputPrepend",
     "outputPrepend",
     "outputPrepend",
     "outputPrepend",
     "outputPrepend",
     "outputPrepend",
     "outputPrepend",
     "outputPrepend",
     "outputPrepend",
     "outputPrepend",
     "outputPrepend",
     "outputPrepend",
     "outputPrepend"
    ]
   },
   "outputs": [
    {
     "output_type": "error",
     "ename": "FileNotFoundError",
     "evalue": "[Errno 2] File b'./data/train0523.csv' does not exist: b'./data/train0523.csv'",
     "traceback": [
      "\u001b[1;31m---------------------------------------------------------------------------\u001b[0m",
      "\u001b[1;31mFileNotFoundError\u001b[0m                         Traceback (most recent call last)",
      "\u001b[1;32m<ipython-input-22-d3135556f01f>\u001b[0m in \u001b[0;36m<module>\u001b[1;34m()\u001b[0m\n\u001b[1;32m----> 1\u001b[1;33m \u001b[1;32mfor\u001b[0m \u001b[0mbatch_data\u001b[0m \u001b[1;32min\u001b[0m \u001b[0mpd\u001b[0m\u001b[1;33m.\u001b[0m\u001b[0mread_csv\u001b[0m\u001b[1;33m(\u001b[0m\u001b[0mtrain_gps_path\u001b[0m\u001b[1;33m,\u001b[0m \u001b[0mchunksize\u001b[0m \u001b[1;33m=\u001b[0m \u001b[0mNDATA\u001b[0m\u001b[1;33m)\u001b[0m\u001b[1;33m:\u001b[0m\u001b[1;33m\u001b[0m\u001b[1;33m\u001b[0m\u001b[0m\n\u001b[0m\u001b[0;32m      2\u001b[0m     \u001b[0msum\u001b[0m \u001b[1;33m+=\u001b[0m \u001b[0mNDATA\u001b[0m\u001b[1;33m\u001b[0m\u001b[1;33m\u001b[0m\u001b[0m\n\u001b[0;32m      3\u001b[0m     \u001b[0mbatch_data\u001b[0m \u001b[1;33m=\u001b[0m \u001b[0mset_data_columns\u001b[0m\u001b[1;33m(\u001b[0m\u001b[0mbatch_data\u001b[0m\u001b[1;33m)\u001b[0m\u001b[1;33m\u001b[0m\u001b[1;33m\u001b[0m\u001b[0m\n\u001b[0;32m      4\u001b[0m     \u001b[0mbatch_data\u001b[0m \u001b[1;33m=\u001b[0m \u001b[0mget_data\u001b[0m\u001b[1;33m(\u001b[0m\u001b[0mbatch_data\u001b[0m\u001b[1;33m,\u001b[0m \u001b[0mmode\u001b[0m \u001b[1;33m=\u001b[0m \u001b[1;34m'train'\u001b[0m\u001b[1;33m)\u001b[0m\u001b[1;33m\u001b[0m\u001b[1;33m\u001b[0m\u001b[0m\n\u001b[0;32m      5\u001b[0m     \u001b[0mbatch_train\u001b[0m \u001b[1;33m=\u001b[0m \u001b[0mget_feature\u001b[0m\u001b[1;33m(\u001b[0m\u001b[0mbatch_data\u001b[0m\u001b[1;33m,\u001b[0m \u001b[0mmode\u001b[0m\u001b[1;33m=\u001b[0m\u001b[1;34m'train'\u001b[0m\u001b[1;33m)\u001b[0m\u001b[1;33m\u001b[0m\u001b[1;33m\u001b[0m\u001b[0m\n",
      "\u001b[1;32mC:\\Users\\junch\\AppData\\Local\\Programs\\Python\\Python37\\lib\\site-packages\\pandas\\io\\parsers.py\u001b[0m in \u001b[0;36mparser_f\u001b[1;34m(filepath_or_buffer, sep, delimiter, header, names, index_col, usecols, squeeze, prefix, mangle_dupe_cols, dtype, engine, converters, true_values, false_values, skipinitialspace, skiprows, skipfooter, nrows, na_values, keep_default_na, na_filter, verbose, skip_blank_lines, parse_dates, infer_datetime_format, keep_date_col, date_parser, dayfirst, cache_dates, iterator, chunksize, compression, thousands, decimal, lineterminator, quotechar, quoting, doublequote, escapechar, comment, encoding, dialect, error_bad_lines, warn_bad_lines, delim_whitespace, low_memory, memory_map, float_precision)\u001b[0m\n\u001b[0;32m    683\u001b[0m         )\n\u001b[0;32m    684\u001b[0m \u001b[1;33m\u001b[0m\u001b[0m\n\u001b[1;32m--> 685\u001b[1;33m         \u001b[1;32mreturn\u001b[0m \u001b[0m_read\u001b[0m\u001b[1;33m(\u001b[0m\u001b[0mfilepath_or_buffer\u001b[0m\u001b[1;33m,\u001b[0m \u001b[0mkwds\u001b[0m\u001b[1;33m)\u001b[0m\u001b[1;33m\u001b[0m\u001b[1;33m\u001b[0m\u001b[0m\n\u001b[0m\u001b[0;32m    686\u001b[0m \u001b[1;33m\u001b[0m\u001b[0m\n\u001b[0;32m    687\u001b[0m     \u001b[0mparser_f\u001b[0m\u001b[1;33m.\u001b[0m\u001b[0m__name__\u001b[0m \u001b[1;33m=\u001b[0m \u001b[0mname\u001b[0m\u001b[1;33m\u001b[0m\u001b[1;33m\u001b[0m\u001b[0m\n",
      "\u001b[1;32mC:\\Users\\junch\\AppData\\Local\\Programs\\Python\\Python37\\lib\\site-packages\\pandas\\io\\parsers.py\u001b[0m in \u001b[0;36m_read\u001b[1;34m(filepath_or_buffer, kwds)\u001b[0m\n\u001b[0;32m    455\u001b[0m \u001b[1;33m\u001b[0m\u001b[0m\n\u001b[0;32m    456\u001b[0m     \u001b[1;31m# Create the parser.\u001b[0m\u001b[1;33m\u001b[0m\u001b[1;33m\u001b[0m\u001b[1;33m\u001b[0m\u001b[0m\n\u001b[1;32m--> 457\u001b[1;33m     \u001b[0mparser\u001b[0m \u001b[1;33m=\u001b[0m \u001b[0mTextFileReader\u001b[0m\u001b[1;33m(\u001b[0m\u001b[0mfp_or_buf\u001b[0m\u001b[1;33m,\u001b[0m \u001b[1;33m**\u001b[0m\u001b[0mkwds\u001b[0m\u001b[1;33m)\u001b[0m\u001b[1;33m\u001b[0m\u001b[1;33m\u001b[0m\u001b[0m\n\u001b[0m\u001b[0;32m    458\u001b[0m \u001b[1;33m\u001b[0m\u001b[0m\n\u001b[0;32m    459\u001b[0m     \u001b[1;32mif\u001b[0m \u001b[0mchunksize\u001b[0m \u001b[1;32mor\u001b[0m \u001b[0miterator\u001b[0m\u001b[1;33m:\u001b[0m\u001b[1;33m\u001b[0m\u001b[1;33m\u001b[0m\u001b[0m\n",
      "\u001b[1;32mC:\\Users\\junch\\AppData\\Local\\Programs\\Python\\Python37\\lib\\site-packages\\pandas\\io\\parsers.py\u001b[0m in \u001b[0;36m__init__\u001b[1;34m(self, f, engine, **kwds)\u001b[0m\n\u001b[0;32m    893\u001b[0m             \u001b[0mself\u001b[0m\u001b[1;33m.\u001b[0m\u001b[0moptions\u001b[0m\u001b[1;33m[\u001b[0m\u001b[1;34m\"has_index_names\"\u001b[0m\u001b[1;33m]\u001b[0m \u001b[1;33m=\u001b[0m \u001b[0mkwds\u001b[0m\u001b[1;33m[\u001b[0m\u001b[1;34m\"has_index_names\"\u001b[0m\u001b[1;33m]\u001b[0m\u001b[1;33m\u001b[0m\u001b[1;33m\u001b[0m\u001b[0m\n\u001b[0;32m    894\u001b[0m \u001b[1;33m\u001b[0m\u001b[0m\n\u001b[1;32m--> 895\u001b[1;33m         \u001b[0mself\u001b[0m\u001b[1;33m.\u001b[0m\u001b[0m_make_engine\u001b[0m\u001b[1;33m(\u001b[0m\u001b[0mself\u001b[0m\u001b[1;33m.\u001b[0m\u001b[0mengine\u001b[0m\u001b[1;33m)\u001b[0m\u001b[1;33m\u001b[0m\u001b[1;33m\u001b[0m\u001b[0m\n\u001b[0m\u001b[0;32m    896\u001b[0m \u001b[1;33m\u001b[0m\u001b[0m\n\u001b[0;32m    897\u001b[0m     \u001b[1;32mdef\u001b[0m \u001b[0mclose\u001b[0m\u001b[1;33m(\u001b[0m\u001b[0mself\u001b[0m\u001b[1;33m)\u001b[0m\u001b[1;33m:\u001b[0m\u001b[1;33m\u001b[0m\u001b[1;33m\u001b[0m\u001b[0m\n",
      "\u001b[1;32mC:\\Users\\junch\\AppData\\Local\\Programs\\Python\\Python37\\lib\\site-packages\\pandas\\io\\parsers.py\u001b[0m in \u001b[0;36m_make_engine\u001b[1;34m(self, engine)\u001b[0m\n\u001b[0;32m   1133\u001b[0m     \u001b[1;32mdef\u001b[0m \u001b[0m_make_engine\u001b[0m\u001b[1;33m(\u001b[0m\u001b[0mself\u001b[0m\u001b[1;33m,\u001b[0m \u001b[0mengine\u001b[0m\u001b[1;33m=\u001b[0m\u001b[1;34m\"c\"\u001b[0m\u001b[1;33m)\u001b[0m\u001b[1;33m:\u001b[0m\u001b[1;33m\u001b[0m\u001b[1;33m\u001b[0m\u001b[0m\n\u001b[0;32m   1134\u001b[0m         \u001b[1;32mif\u001b[0m \u001b[0mengine\u001b[0m \u001b[1;33m==\u001b[0m \u001b[1;34m\"c\"\u001b[0m\u001b[1;33m:\u001b[0m\u001b[1;33m\u001b[0m\u001b[1;33m\u001b[0m\u001b[0m\n\u001b[1;32m-> 1135\u001b[1;33m             \u001b[0mself\u001b[0m\u001b[1;33m.\u001b[0m\u001b[0m_engine\u001b[0m \u001b[1;33m=\u001b[0m \u001b[0mCParserWrapper\u001b[0m\u001b[1;33m(\u001b[0m\u001b[0mself\u001b[0m\u001b[1;33m.\u001b[0m\u001b[0mf\u001b[0m\u001b[1;33m,\u001b[0m \u001b[1;33m**\u001b[0m\u001b[0mself\u001b[0m\u001b[1;33m.\u001b[0m\u001b[0moptions\u001b[0m\u001b[1;33m)\u001b[0m\u001b[1;33m\u001b[0m\u001b[1;33m\u001b[0m\u001b[0m\n\u001b[0m\u001b[0;32m   1136\u001b[0m         \u001b[1;32melse\u001b[0m\u001b[1;33m:\u001b[0m\u001b[1;33m\u001b[0m\u001b[1;33m\u001b[0m\u001b[0m\n\u001b[0;32m   1137\u001b[0m             \u001b[1;32mif\u001b[0m \u001b[0mengine\u001b[0m \u001b[1;33m==\u001b[0m \u001b[1;34m\"python\"\u001b[0m\u001b[1;33m:\u001b[0m\u001b[1;33m\u001b[0m\u001b[1;33m\u001b[0m\u001b[0m\n",
      "\u001b[1;32mC:\\Users\\junch\\AppData\\Local\\Programs\\Python\\Python37\\lib\\site-packages\\pandas\\io\\parsers.py\u001b[0m in \u001b[0;36m__init__\u001b[1;34m(self, src, **kwds)\u001b[0m\n\u001b[0;32m   1915\u001b[0m         \u001b[0mkwds\u001b[0m\u001b[1;33m[\u001b[0m\u001b[1;34m\"usecols\"\u001b[0m\u001b[1;33m]\u001b[0m \u001b[1;33m=\u001b[0m \u001b[0mself\u001b[0m\u001b[1;33m.\u001b[0m\u001b[0musecols\u001b[0m\u001b[1;33m\u001b[0m\u001b[1;33m\u001b[0m\u001b[0m\n\u001b[0;32m   1916\u001b[0m \u001b[1;33m\u001b[0m\u001b[0m\n\u001b[1;32m-> 1917\u001b[1;33m         \u001b[0mself\u001b[0m\u001b[1;33m.\u001b[0m\u001b[0m_reader\u001b[0m \u001b[1;33m=\u001b[0m \u001b[0mparsers\u001b[0m\u001b[1;33m.\u001b[0m\u001b[0mTextReader\u001b[0m\u001b[1;33m(\u001b[0m\u001b[0msrc\u001b[0m\u001b[1;33m,\u001b[0m \u001b[1;33m**\u001b[0m\u001b[0mkwds\u001b[0m\u001b[1;33m)\u001b[0m\u001b[1;33m\u001b[0m\u001b[1;33m\u001b[0m\u001b[0m\n\u001b[0m\u001b[0;32m   1918\u001b[0m         \u001b[0mself\u001b[0m\u001b[1;33m.\u001b[0m\u001b[0munnamed_cols\u001b[0m \u001b[1;33m=\u001b[0m \u001b[0mself\u001b[0m\u001b[1;33m.\u001b[0m\u001b[0m_reader\u001b[0m\u001b[1;33m.\u001b[0m\u001b[0munnamed_cols\u001b[0m\u001b[1;33m\u001b[0m\u001b[1;33m\u001b[0m\u001b[0m\n\u001b[0;32m   1919\u001b[0m \u001b[1;33m\u001b[0m\u001b[0m\n",
      "\u001b[1;32mpandas/_libs/parsers.pyx\u001b[0m in \u001b[0;36mpandas._libs.parsers.TextReader.__cinit__\u001b[1;34m()\u001b[0m\n",
      "\u001b[1;32mpandas/_libs/parsers.pyx\u001b[0m in \u001b[0;36mpandas._libs.parsers.TextReader._setup_parser_source\u001b[1;34m()\u001b[0m\n",
      "\u001b[1;31mFileNotFoundError\u001b[0m: [Errno 2] File b'./data/train0523.csv' does not exist: b'./data/train0523.csv'"
     ]
    }
   ],
   "source": [
    "for batch_data in pd.read_csv(train_gps_path, chunksize = NDATA):\n",
    "    sum += NDATA\n",
    "    batch_data = set_data_columns(batch_data)\n",
    "    batch_data = get_data(batch_data, mode = 'train')\n",
    "    batch_train = get_feature(batch_data, mode='train')\n",
    "    features = [c for c in batch_train.columns if c not in ['loadingOrder', 'label', 'mmin', 'mmax', 'count']]\n",
    "    pred = features\n",
    "\n",
    "\n",
    "    \n",
    "\n",
    "    train_pred = np.zeros((batch_train.shape[0], ))\n",
    "    n_splits = 5\n",
    "    # Kfold\n",
    "    fold = KFold(n_splits=n_splits, shuffle=is_shuffle, random_state=seed)\n",
    "    kf_way = fold.split(batch_train[pred])\n",
    "    \n",
    "    # train\n",
    "    for n_fold, (train_idx, valid_idx) in enumerate(kf_way, start=1):\n",
    "        train_x, train_y = batch_train[pred].iloc[train_idx], batch_train[label].iloc[train_idx]\n",
    "        valid_x, valid_y = batch_train[pred].iloc[valid_idx], batch_train[label].iloc[valid_idx]\n",
    "        # 数据加载\n",
    "        n_train = lgb.Dataset(train_x, label=train_y)\n",
    "        n_valid = lgb.Dataset(valid_x, label=valid_y)\n",
    "\n",
    "        clf = lgb.train(\n",
    "            params=params,\n",
    "            train_set=n_train,\n",
    "            num_boost_round=3000,\n",
    "            valid_sets=[n_valid],\n",
    "            early_stopping_rounds=100,\n",
    "            verbose_eval=100,\n",
    "            feval=mse_score_eval,\n",
    "        )\n",
    "        test_pred += clf.predict(test[pred], num_iteration=clf.best_iteration)*weight/fold.n_splits\n",
    "    if sum >= Thresold:\n",
    "        break"
   ]
  },
  {
   "cell_type": "code",
   "execution_count": 9,
   "metadata": {},
   "outputs": [],
   "source": [
    "test['label'] = test_pred\n",
    "result = test[['loadingOrder', 'label']]"
   ]
  },
  {
   "cell_type": "code",
   "execution_count": 10,
   "metadata": {},
   "outputs": [],
   "source": [
    "test_data = test_data.merge(result, on='loadingOrder', how='left')\n",
    "test_data['ETA'] = (test_data['onboardDate'] + test_data['label'].apply(lambda x:pd.Timedelta(seconds=x))).apply(lambda x:x.strftime('%Y/%m/%d  %H:%M:%S'))\n",
    "test_data.drop(['direction','TRANSPORT_TRACE'],axis=1,inplace=True)\n",
    "test_data['onboardDate'] = test_data['onboardDate'].apply(lambda x:x.strftime('%Y/%m/%d  %H:%M:%S'))\n",
    "test_data['creatDate'] = pd.datetime.now().strftime('%Y/%m/%d  %H:%M:%S')\n",
    "test_data['timestamp'] = test_data['temp_timestamp']\n",
    "# 整理columns顺序\n",
    "result = test_data[['loadingOrder', 'timestamp', 'longitude', 'latitude', 'carrierName', 'vesselMMSI', 'onboardDate', 'ETA', 'creatDate']]"
   ]
  },
  {
   "cell_type": "code",
   "execution_count": 12,
   "metadata": {},
   "outputs": [],
   "source": [
    "result.to_csv('result.csv', index=False)\n"
   ]
  },
  {
   "cell_type": "code",
   "execution_count": 13,
   "metadata": {},
   "outputs": [
    {
     "output_type": "execute_result",
     "data": {
<<<<<<< Updated upstream
      "text/plain": "         loadingOrder                 timestamp   longitude   latitude  \\\n0      CF946210847851  2019-04-02T02:42:28.000Z  138.471062  40.278787   \n1      CF946210847851  2019-04-02T02:59:28.000Z  138.552168  40.327785   \n2      CF946210847851  2019-04-02T03:07:28.000Z  138.588250  40.352542   \n3      CF946210847851  2019-04-02T03:43:28.000Z  138.751325  40.459447   \n4      CF946210847851  2019-04-02T04:29:28.000Z  138.969782  40.581485   \n...               ...                       ...         ...        ...   \n45451  XG479584941731  2019-01-13T03:56:08.000Z  104.633357   1.630708   \n45452  XG479584941731  2019-01-13T03:57:08.000Z  104.631958   1.626713   \n45453  XG479584941731  2019-01-13T03:57:38.000Z  104.631258   1.624615   \n45454  XG479584941731  2019-01-13T03:58:08.000Z  104.630597   1.622682   \n45455  XG479584941731  2019-01-13T03:59:08.000Z  104.629178   1.618552   \n\n      carrierName   vesselMMSI           onboardDate                   ETA  \\\n0          OIEQNT  R5480015614  2019/04/02  02:42:28  2019/04/03  12:06:14   \n1          OIEQNT  R5480015614  2019/04/02  02:42:28  2019/04/03  12:06:14   \n2          OIEQNT  R5480015614  2019/04/02  02:42:28  2019/04/03  12:06:14   \n3          OIEQNT  R5480015614  2019/04/02  02:42:28  2019/04/03  12:06:14   \n4          OIEQNT  R5480015614  2019/04/02  02:42:28  2019/04/03  12:06:14   \n...           ...          ...                   ...                   ...   \n45451      JCMFTA  U2218600548  2019/01/10  00:27:58  2019/01/11  10:33:21   \n45452      JCMFTA  U2218600548  2019/01/10  00:27:58  2019/01/11  10:33:21   \n45453      JCMFTA  U2218600548  2019/01/10  00:27:58  2019/01/11  10:33:21   \n45454      JCMFTA  U2218600548  2019/01/10  00:27:58  2019/01/11  10:33:21   \n45455      JCMFTA  U2218600548  2019/01/10  00:27:58  2019/01/11  10:33:21   \n\n                  creatDate  \n0      2020/06/10  00:52:23  \n1      2020/06/10  00:52:23  \n2      2020/06/10  00:52:23  \n3      2020/06/10  00:52:23  \n4      2020/06/10  00:52:23  \n...                     ...  \n45451  2020/06/10  00:52:23  \n45452  2020/06/10  00:52:23  \n45453  2020/06/10  00:52:23  \n45454  2020/06/10  00:52:23  \n45455  2020/06/10  00:52:23  \n\n[45456 rows x 9 columns]",
      "text/html": "<div>\n<style scoped>\n    .dataframe tbody tr th:only-of-type {\n        vertical-align: middle;\n    }\n\n    .dataframe tbody tr th {\n        vertical-align: top;\n    }\n\n    .dataframe thead th {\n        text-align: right;\n    }\n</style>\n<table border=\"1\" class=\"dataframe\">\n  <thead>\n    <tr style=\"text-align: right;\">\n      <th></th>\n      <th>loadingOrder</th>\n      <th>timestamp</th>\n      <th>longitude</th>\n      <th>latitude</th>\n      <th>carrierName</th>\n      <th>vesselMMSI</th>\n      <th>onboardDate</th>\n      <th>ETA</th>\n      <th>creatDate</th>\n    </tr>\n  </thead>\n  <tbody>\n    <tr>\n      <th>0</th>\n      <td>CF946210847851</td>\n      <td>2019-04-02T02:42:28.000Z</td>\n      <td>138.471062</td>\n      <td>40.278787</td>\n      <td>OIEQNT</td>\n      <td>R5480015614</td>\n      <td>2019/04/02  02:42:28</td>\n      <td>2019/04/03  12:06:14</td>\n      <td>2020/06/10  00:52:23</td>\n    </tr>\n    <tr>\n      <th>1</th>\n      <td>CF946210847851</td>\n      <td>2019-04-02T02:59:28.000Z</td>\n      <td>138.552168</td>\n      <td>40.327785</td>\n      <td>OIEQNT</td>\n      <td>R5480015614</td>\n      <td>2019/04/02  02:42:28</td>\n      <td>2019/04/03  12:06:14</td>\n      <td>2020/06/10  00:52:23</td>\n    </tr>\n    <tr>\n      <th>2</th>\n      <td>CF946210847851</td>\n      <td>2019-04-02T03:07:28.000Z</td>\n      <td>138.588250</td>\n      <td>40.352542</td>\n      <td>OIEQNT</td>\n      <td>R5480015614</td>\n      <td>2019/04/02  02:42:28</td>\n      <td>2019/04/03  12:06:14</td>\n      <td>2020/06/10  00:52:23</td>\n    </tr>\n    <tr>\n      <th>3</th>\n      <td>CF946210847851</td>\n      <td>2019-04-02T03:43:28.000Z</td>\n      <td>138.751325</td>\n      <td>40.459447</td>\n      <td>OIEQNT</td>\n      <td>R5480015614</td>\n      <td>2019/04/02  02:42:28</td>\n      <td>2019/04/03  12:06:14</td>\n      <td>2020/06/10  00:52:23</td>\n    </tr>\n    <tr>\n      <th>4</th>\n      <td>CF946210847851</td>\n      <td>2019-04-02T04:29:28.000Z</td>\n      <td>138.969782</td>\n      <td>40.581485</td>\n      <td>OIEQNT</td>\n      <td>R5480015614</td>\n      <td>2019/04/02  02:42:28</td>\n      <td>2019/04/03  12:06:14</td>\n      <td>2020/06/10  00:52:23</td>\n    </tr>\n    <tr>\n      <th>...</th>\n      <td>...</td>\n      <td>...</td>\n      <td>...</td>\n      <td>...</td>\n      <td>...</td>\n      <td>...</td>\n      <td>...</td>\n      <td>...</td>\n      <td>...</td>\n    </tr>\n    <tr>\n      <th>45451</th>\n      <td>XG479584941731</td>\n      <td>2019-01-13T03:56:08.000Z</td>\n      <td>104.633357</td>\n      <td>1.630708</td>\n      <td>JCMFTA</td>\n      <td>U2218600548</td>\n      <td>2019/01/10  00:27:58</td>\n      <td>2019/01/11  10:33:21</td>\n      <td>2020/06/10  00:52:23</td>\n    </tr>\n    <tr>\n      <th>45452</th>\n      <td>XG479584941731</td>\n      <td>2019-01-13T03:57:08.000Z</td>\n      <td>104.631958</td>\n      <td>1.626713</td>\n      <td>JCMFTA</td>\n      <td>U2218600548</td>\n      <td>2019/01/10  00:27:58</td>\n      <td>2019/01/11  10:33:21</td>\n      <td>2020/06/10  00:52:23</td>\n    </tr>\n    <tr>\n      <th>45453</th>\n      <td>XG479584941731</td>\n      <td>2019-01-13T03:57:38.000Z</td>\n      <td>104.631258</td>\n      <td>1.624615</td>\n      <td>JCMFTA</td>\n      <td>U2218600548</td>\n      <td>2019/01/10  00:27:58</td>\n      <td>2019/01/11  10:33:21</td>\n      <td>2020/06/10  00:52:23</td>\n    </tr>\n    <tr>\n      <th>45454</th>\n      <td>XG479584941731</td>\n      <td>2019-01-13T03:58:08.000Z</td>\n      <td>104.630597</td>\n      <td>1.622682</td>\n      <td>JCMFTA</td>\n      <td>U2218600548</td>\n      <td>2019/01/10  00:27:58</td>\n      <td>2019/01/11  10:33:21</td>\n      <td>2020/06/10  00:52:23</td>\n    </tr>\n    <tr>\n      <th>45455</th>\n      <td>XG479584941731</td>\n      <td>2019-01-13T03:59:08.000Z</td>\n      <td>104.629178</td>\n      <td>1.618552</td>\n      <td>JCMFTA</td>\n      <td>U2218600548</td>\n      <td>2019/01/10  00:27:58</td>\n      <td>2019/01/11  10:33:21</td>\n      <td>2020/06/10  00:52:23</td>\n    </tr>\n  </tbody>\n</table>\n<p>45456 rows × 9 columns</p>\n</div>"
=======
      "text/plain": "         loadingOrder                 timestamp   longitude   latitude  \\\n0      CF946210847851  2019-04-02T02:42:28.000Z  138.471062  40.278787   \n1      CF946210847851  2019-04-02T02:59:28.000Z  138.552168  40.327785   \n2      CF946210847851  2019-04-02T03:07:28.000Z  138.588250  40.352542   \n3      CF946210847851  2019-04-02T03:43:28.000Z  138.751325  40.459447   \n4      CF946210847851  2019-04-02T04:29:28.000Z  138.969782  40.581485   \n...               ...                       ...         ...        ...   \n45451  XG479584941731  2019-01-13T03:56:08.000Z  104.633357   1.630708   \n45452  XG479584941731  2019-01-13T03:57:08.000Z  104.631958   1.626713   \n45453  XG479584941731  2019-01-13T03:57:38.000Z  104.631258   1.624615   \n45454  XG479584941731  2019-01-13T03:58:08.000Z  104.630597   1.622682   \n45455  XG479584941731  2019-01-13T03:59:08.000Z  104.629178   1.618552   \n\n      carrierName   vesselMMSI           onboardDate                   ETA  \\\n0          OIEQNT  R5480015614  2019/04/02  02:42:28  2019/04/03  13:05:42   \n1          OIEQNT  R5480015614  2019/04/02  02:42:28  2019/04/03  13:05:42   \n2          OIEQNT  R5480015614  2019/04/02  02:42:28  2019/04/03  13:05:42   \n3          OIEQNT  R5480015614  2019/04/02  02:42:28  2019/04/03  13:05:42   \n4          OIEQNT  R5480015614  2019/04/02  02:42:28  2019/04/03  13:05:42   \n...           ...          ...                   ...                   ...   \n45451      JCMFTA  U2218600548  2019/01/10  00:27:58  2019/01/13  03:24:00   \n45452      JCMFTA  U2218600548  2019/01/10  00:27:58  2019/01/13  03:24:00   \n45453      JCMFTA  U2218600548  2019/01/10  00:27:58  2019/01/13  03:24:00   \n45454      JCMFTA  U2218600548  2019/01/10  00:27:58  2019/01/13  03:24:00   \n45455      JCMFTA  U2218600548  2019/01/10  00:27:58  2019/01/13  03:24:00   \n\n                  creatDate  \n0      2020/06/08  22:10:46  \n1      2020/06/08  22:10:46  \n2      2020/06/08  22:10:46  \n3      2020/06/08  22:10:46  \n4      2020/06/08  22:10:46  \n...                     ...  \n45451  2020/06/08  22:10:46  \n45452  2020/06/08  22:10:46  \n45453  2020/06/08  22:10:46  \n45454  2020/06/08  22:10:46  \n45455  2020/06/08  22:10:46  \n\n[45456 rows x 9 columns]",
      "text/html": "<div>\n<style scoped>\n    .dataframe tbody tr th:only-of-type {\n        vertical-align: middle;\n    }\n\n    .dataframe tbody tr th {\n        vertical-align: top;\n    }\n\n    .dataframe thead th {\n        text-align: right;\n    }\n</style>\n<table border=\"1\" class=\"dataframe\">\n  <thead>\n    <tr style=\"text-align: right;\">\n      <th></th>\n      <th>loadingOrder</th>\n      <th>timestamp</th>\n      <th>longitude</th>\n      <th>latitude</th>\n      <th>carrierName</th>\n      <th>vesselMMSI</th>\n      <th>onboardDate</th>\n      <th>ETA</th>\n      <th>creatDate</th>\n    </tr>\n  </thead>\n  <tbody>\n    <tr>\n      <th>0</th>\n      <td>CF946210847851</td>\n      <td>2019-04-02T02:42:28.000Z</td>\n      <td>138.471062</td>\n      <td>40.278787</td>\n      <td>OIEQNT</td>\n      <td>R5480015614</td>\n      <td>2019/04/02  02:42:28</td>\n      <td>2019/04/03  13:05:42</td>\n      <td>2020/06/08  22:10:46</td>\n    </tr>\n    <tr>\n      <th>1</th>\n      <td>CF946210847851</td>\n      <td>2019-04-02T02:59:28.000Z</td>\n      <td>138.552168</td>\n      <td>40.327785</td>\n      <td>OIEQNT</td>\n      <td>R5480015614</td>\n      <td>2019/04/02  02:42:28</td>\n      <td>2019/04/03  13:05:42</td>\n      <td>2020/06/08  22:10:46</td>\n    </tr>\n    <tr>\n      <th>2</th>\n      <td>CF946210847851</td>\n      <td>2019-04-02T03:07:28.000Z</td>\n      <td>138.588250</td>\n      <td>40.352542</td>\n      <td>OIEQNT</td>\n      <td>R5480015614</td>\n      <td>2019/04/02  02:42:28</td>\n      <td>2019/04/03  13:05:42</td>\n      <td>2020/06/08  22:10:46</td>\n    </tr>\n    <tr>\n      <th>3</th>\n      <td>CF946210847851</td>\n      <td>2019-04-02T03:43:28.000Z</td>\n      <td>138.751325</td>\n      <td>40.459447</td>\n      <td>OIEQNT</td>\n      <td>R5480015614</td>\n      <td>2019/04/02  02:42:28</td>\n      <td>2019/04/03  13:05:42</td>\n      <td>2020/06/08  22:10:46</td>\n    </tr>\n    <tr>\n      <th>4</th>\n      <td>CF946210847851</td>\n      <td>2019-04-02T04:29:28.000Z</td>\n      <td>138.969782</td>\n      <td>40.581485</td>\n      <td>OIEQNT</td>\n      <td>R5480015614</td>\n      <td>2019/04/02  02:42:28</td>\n      <td>2019/04/03  13:05:42</td>\n      <td>2020/06/08  22:10:46</td>\n    </tr>\n    <tr>\n      <th>...</th>\n      <td>...</td>\n      <td>...</td>\n      <td>...</td>\n      <td>...</td>\n      <td>...</td>\n      <td>...</td>\n      <td>...</td>\n      <td>...</td>\n      <td>...</td>\n    </tr>\n    <tr>\n      <th>45451</th>\n      <td>XG479584941731</td>\n      <td>2019-01-13T03:56:08.000Z</td>\n      <td>104.633357</td>\n      <td>1.630708</td>\n      <td>JCMFTA</td>\n      <td>U2218600548</td>\n      <td>2019/01/10  00:27:58</td>\n      <td>2019/01/13  03:24:00</td>\n      <td>2020/06/08  22:10:46</td>\n    </tr>\n    <tr>\n      <th>45452</th>\n      <td>XG479584941731</td>\n      <td>2019-01-13T03:57:08.000Z</td>\n      <td>104.631958</td>\n      <td>1.626713</td>\n      <td>JCMFTA</td>\n      <td>U2218600548</td>\n      <td>2019/01/10  00:27:58</td>\n      <td>2019/01/13  03:24:00</td>\n      <td>2020/06/08  22:10:46</td>\n    </tr>\n    <tr>\n      <th>45453</th>\n      <td>XG479584941731</td>\n      <td>2019-01-13T03:57:38.000Z</td>\n      <td>104.631258</td>\n      <td>1.624615</td>\n      <td>JCMFTA</td>\n      <td>U2218600548</td>\n      <td>2019/01/10  00:27:58</td>\n      <td>2019/01/13  03:24:00</td>\n      <td>2020/06/08  22:10:46</td>\n    </tr>\n    <tr>\n      <th>45454</th>\n      <td>XG479584941731</td>\n      <td>2019-01-13T03:58:08.000Z</td>\n      <td>104.630597</td>\n      <td>1.622682</td>\n      <td>JCMFTA</td>\n      <td>U2218600548</td>\n      <td>2019/01/10  00:27:58</td>\n      <td>2019/01/13  03:24:00</td>\n      <td>2020/06/08  22:10:46</td>\n    </tr>\n    <tr>\n      <th>45455</th>\n      <td>XG479584941731</td>\n      <td>2019-01-13T03:59:08.000Z</td>\n      <td>104.629178</td>\n      <td>1.618552</td>\n      <td>JCMFTA</td>\n      <td>U2218600548</td>\n      <td>2019/01/10  00:27:58</td>\n      <td>2019/01/13  03:24:00</td>\n      <td>2020/06/08  22:10:46</td>\n    </tr>\n  </tbody>\n</table>\n<p>45456 rows × 9 columns</p>\n</div>"
>>>>>>> Stashed changes
     },
     "metadata": {},
     "execution_count": 13
    }
   ],
   "source": [
    "result"
   ]
  },
  {
   "cell_type": "code",
   "execution_count": null,
   "metadata": {},
   "outputs": [],
   "source": []
  }
 ],
 "metadata": {
  "kernelspec": {
   "display_name": "Python 3.6.9 64-bit",
   "language": "python",
   "name": "python36964bite3236846d775474d9dc51617f421dd7d"
  },
  "language_info": {
   "codemirror_mode": {
    "name": "ipython",
    "version": 3
   },
   "file_extension": ".py",
   "mimetype": "text/x-python",
   "name": "python",
   "nbconvert_exporter": "python",
   "pygments_lexer": "ipython3",
   "version": "3.6.9-final"
  }
 },
 "nbformat": 4,
 "nbformat_minor": 4
}